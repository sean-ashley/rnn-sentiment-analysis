{
 "cells": [
  {
   "cell_type": "markdown",
   "metadata": {},
   "source": [
    "# Sentiment Analysis with an RNN\n",
    "\n",
    "In this notebook, you'll implement a recurrent neural network that performs sentiment analysis. \n",
    ">Using an RNN rather than a strictly feedforward network is more accurate since we can include information about the *sequence* of words. \n",
    "\n",
    "Here we'll use a dataset of movie reviews, accompanied by sentiment labels: positive or negative.\n",
    "\n",
    "<img src=\"assets/reviews_ex.png\" width=40%>\n",
    "\n",
    "### Network Architecture\n",
    "\n",
    "The architecture for this network is shown below.\n",
    "\n",
    "<img src=\"assets/network_diagram.png\" width=40%>\n",
    "\n",
    ">**First, we'll pass in words to an embedding layer.** We need an embedding layer because we have tens of thousands of words, so we'll need a more efficient representation for our input data than one-hot encoded vectors. You should have seen this before from the Word2Vec lesson. You can actually train an embedding with the Skip-gram Word2Vec model and use those embeddings as input, here. However, it's good enough to just have an embedding layer and let the network learn a different embedding table on its own. *In this case, the embedding layer is for dimensionality reduction, rather than for learning semantic representations.*\n",
    "\n",
    ">**After input words are passed to an embedding layer, the new embeddings will be passed to LSTM cells.** The LSTM cells will add *recurrent* connections to the network and give us the ability to include information about the *sequence* of words in the movie review data. \n",
    "\n",
    ">**Finally, the LSTM outputs will go to a sigmoid output layer.** We're using a sigmoid function because positive and negative = 1 and 0, respectively, and a sigmoid will output predicted, sentiment values between 0-1. \n",
    "\n",
    "We don't care about the sigmoid outputs except for the **very last one**; we can ignore the rest. We'll calculate the loss by comparing the output at the last time step and the training label (pos or neg)."
   ]
  },
  {
   "cell_type": "markdown",
   "metadata": {},
   "source": [
    "---\n",
    "### Load in and visualize the data"
   ]
  },
  {
   "cell_type": "code",
   "execution_count": 1,
   "metadata": {},
   "outputs": [],
   "source": [
    "import numpy as np\n",
    "\n",
    "# read data from text files\n",
    "with open('data/reviews.txt', 'r') as f:\n",
    "    reviews = f.read()\n",
    "with open('data/labels.txt', 'r') as f:\n",
    "    labels = f.read()"
   ]
  },
  {
   "cell_type": "code",
   "execution_count": 2,
   "metadata": {
    "tags": []
   },
   "outputs": [
    {
     "output_type": "stream",
     "name": "stdout",
     "text": "bromwell high is a cartoon comedy . it ran at the same time as some other programs about school life  such as  teachers  . my   years in the teaching profession lead me to believe that bromwell high  s satire is much closer to reality than is  teachers  . the scramble to survive financially  the insightful students who can see right through their pathetic teachers  pomp  the pettiness of the whole situation  all remind me of the schools i knew and their students . when i saw the episode in which a student repeatedly tried to burn down the school  i immediately recalled . . . . . . . . . at . . . . . . . . . . high . a classic line inspector i  m here to sack one of your teachers . student welcome to bromwell high . i expect that many adults of my age think that bromwell high is far fetched . what a pity that it isn  t   \nstory of a man who has unnatural feelings for a pig . starts out with a opening scene that is a terrific example of absurd comedy . a formal orchestra audience is turned into an insane  violent mob by the crazy chantings of it  s singers . unfortunately it stays absurd the whole time with no general narrative eventually making it just too off putting . even those from the era should be turned off . the cryptic dialogue would make shakespeare seem easy to a third grader . on a technical level it  s better than you might think with some good cinematography by future great vilmos zsigmond . future stars sally kirkland and frederic forrest can be seen briefly .  \nhomelessness  or houselessness as george carlin stated  has been an issue for years but never a plan to help those on the street that were once considered human who did everything from going to school  work  or vote for the matter . most people think of the homeless as just a lost cause while worrying about things such as racism  the war on iraq  pressuring kids to succeed  technology  the elections  inflation  or worrying if they  ll be next to end up on the streets .  br    br   but what if y\n\npositive\nnegative\npo\n"
    }
   ],
   "source": [
    "print(reviews[:2000])\n",
    "print()\n",
    "print(labels[:20])"
   ]
  },
  {
   "cell_type": "markdown",
   "metadata": {},
   "source": [
    "## Data pre-processing\n",
    "\n",
    "The first step when building a neural network model is getting your data into the proper form to feed into the network. Since we're using embedding layers, we'll need to encode each word with an integer. We'll also want to clean it up a bit.\n",
    "\n",
    "You can see an example of the reviews data above. Here are the processing steps, we'll want to take:\n",
    ">* We'll want to get rid of periods and extraneous punctuation.\n",
    "* Also, you might notice that the reviews are delimited with newline characters `\\n`. To deal with those, I'm going to split the text into each review using `\\n` as the delimiter. \n",
    "* Then I can combined all the reviews back together into one big string.\n",
    "\n",
    "First, let's remove all punctuation. Then get all the text without the newlines and split it into individual words."
   ]
  },
  {
   "cell_type": "code",
   "execution_count": 3,
   "metadata": {
    "tags": []
   },
   "outputs": [
    {
     "output_type": "stream",
     "name": "stdout",
     "text": "!\"#$%&'()*+,-./:;<=>?@[\\]^_`{|}~\n"
    }
   ],
   "source": [
    "from string import punctuation\n",
    "\n",
    "print(punctuation)\n",
    "\n",
    "# get rid of punctuation\n",
    "reviews = reviews.lower() # lowercase, standardize\n",
    "all_text = ''.join([c for c in reviews if c not in punctuation])"
   ]
  },
  {
   "cell_type": "code",
   "execution_count": 4,
   "metadata": {
    "tags": []
   },
   "outputs": [
    {
     "output_type": "stream",
     "name": "stdout",
     "text": "['bromwell', 'high', 'is', 'a', 'cartoon', 'comedy', 'it', 'ran', 'at', 'the', 'same', 'time', 'as', 'some', 'other', 'programs', 'about', 'school', 'life', 'such', 'as', 'teachers', 'my', 'years', 'in', 'the', 'teaching', 'profession', 'lead', 'me', 'to', 'believe', 'that', 'bromwell', 'high', 's', 'satire', 'is', 'much', 'closer', 'to', 'reality', 'than', 'is', 'teachers', 'the', 'scramble', 'to', 'survive', 'financially', 'the', 'insightful', 'students', 'who', 'can', 'see', 'right', 'through', 'their', 'pathetic', 'teachers', 'pomp', 'the', 'pettiness', 'of', 'the', 'whole', 'situation', 'all', 'remind', 'me', 'of', 'the', 'schools', 'i', 'knew', 'and', 'their', 'students', 'when', 'i', 'saw', 'the', 'episode', 'in', 'which', 'a', 'student', 'repeatedly', 'tried', 'to', 'burn', 'down', 'the', 'school', 'i', 'immediately', 'recalled', 'at', 'high', 'a', 'classic', 'line', 'inspector', 'i', 'm', 'here', 'to', 'sack', 'one', 'of', 'your', 'teachers', 'student', 'welcome', 'to', 'bromwell', 'high', 'i', 'expect', 'that', 'many', 'adults', 'of', 'my', 'age', 'think', 'that', 'bromwell', 'high', 'is', 'far', 'fetched', 'what', 'a', 'pity', 'that', 'it', 'isn', 't']\n"
    }
   ],
   "source": [
    "# split by new lines and spaces\n",
    "reviews_split = all_text.split('\\n')\n",
    "all_text = ' '.join(reviews_split)\n",
    "print(reviews_split[0].split())\n",
    "# create a list of words\n",
    "words = all_text.split()\n"
   ]
  },
  {
   "cell_type": "code",
   "execution_count": 5,
   "metadata": {},
   "outputs": [
    {
     "output_type": "execute_result",
     "data": {
      "text/plain": "['bromwell',\n 'high',\n 'is',\n 'a',\n 'cartoon',\n 'comedy',\n 'it',\n 'ran',\n 'at',\n 'the',\n 'same',\n 'time',\n 'as',\n 'some',\n 'other',\n 'programs',\n 'about',\n 'school',\n 'life',\n 'such',\n 'as',\n 'teachers',\n 'my',\n 'years',\n 'in',\n 'the',\n 'teaching',\n 'profession',\n 'lead',\n 'me']"
     },
     "metadata": {},
     "execution_count": 5
    }
   ],
   "source": [
    "words[:30]"
   ]
  },
  {
   "cell_type": "markdown",
   "metadata": {},
   "source": [
    "### Encoding the words\n",
    "\n",
    "The embedding lookup requires that we pass in integers to our network. The easiest way to do this is to create dictionaries that map the words in the vocabulary to integers. Then we can convert each of our reviews into integers so they can be passed into the network.\n",
    "\n",
    "> **Exercise:** Now you're going to encode the words with integers. Build a dictionary that maps words to integers. Later we're going to pad our input vectors with zeros, so make sure the integers **start at 1, not 0**.\n",
    "> Also, convert the reviews to integers and store the reviews in a new list called `reviews_ints`. "
   ]
  },
  {
   "cell_type": "code",
   "execution_count": 6,
   "metadata": {
    "tags": []
   },
   "outputs": [],
   "source": [
    "# feel free to use this import \n",
    "from collections import Counter\n",
    "\n",
    "## Build a dictionary that maps words to integers\n",
    "word_counter = Counter(words)\n",
    "\n",
    "#encode words\n",
    "words_sorted = sorted(set(words),key = word_counter.get,reverse=True)\n",
    "#create dict that maps each word to an integer starting at one.\n",
    "vocab_to_int = {}\n",
    "for val,key in enumerate(words_sorted,1):\n",
    "    vocab_to_int[key] = val\n",
    "#create dict that maps each integer to a word starting at one.\n",
    "int_to_vocab = {}\n",
    "for key,val in enumerate(words_sorted,1):\n",
    "    int_to_vocab[key] = val\n",
    "\n",
    "\n"
   ]
  },
  {
   "cell_type": "code",
   "execution_count": 7,
   "metadata": {
    "tags": []
   },
   "outputs": [],
   "source": [
    "## use the dict to tokenize each review in reviews_split\n",
    "## store the tokenized reviews in reviews_ints\n",
    "reviews_ints = []\n",
    "for review in reviews_split:\n",
    "    encoded_labels = []\n",
    "    for word in review.split():\n",
    "        encoded_labels.append(vocab_to_int[word])\n",
    "    reviews_ints.append(encoded_labels)\n",
    "    "
   ]
  },
  {
   "cell_type": "markdown",
   "metadata": {},
   "source": [
    "**Test your code**\n",
    "\n",
    "As a text that you've implemented the dictionary correctly, print out the number of unique words in your vocabulary and the contents of the first, tokenized review."
   ]
  },
  {
   "cell_type": "code",
   "execution_count": 8,
   "metadata": {
    "tags": []
   },
   "outputs": [
    {
     "output_type": "stream",
     "name": "stdout",
     "text": "Unique words:  74072\nTokenized review: \n [[22153, 308, 6, 3, 1051, 207, 8, 2141, 32, 1, 171, 57, 15, 49, 81, 5818, 44, 382, 110, 140, 15, 5225, 60, 154, 9, 1, 4977, 5863, 475, 71, 5, 260, 12, 22153, 308, 13, 1980, 6, 74, 2403, 5, 614, 73, 6, 5225, 1, 24962, 5, 1988, 10378, 1, 5786, 1502, 36, 51, 66, 204, 145, 67, 1203, 5225, 20095, 1, 39073, 4, 1, 221, 883, 31, 3002, 71, 4, 1, 5809, 10, 687, 2, 67, 1502, 54, 10, 216, 1, 384, 9, 62, 3, 1408, 3695, 783, 5, 3493, 180, 1, 382, 10, 1214, 13753, 32, 308, 3, 349, 341, 2928, 10, 143, 127, 5, 7777, 30, 4, 129, 5225, 1408, 2330, 5, 22153, 308, 10, 528, 12, 109, 1450, 4, 60, 543, 102, 12, 22153, 308, 6, 227, 4160, 48, 3, 2212, 12, 8, 215, 23]]\n"
    }
   ],
   "source": [
    "# stats about vocabulary\n",
    "print('Unique words: ', len(((vocab_to_int))))  \n",
    "# should ~ 74000+\n",
    "#print()\n",
    "\n",
    "# print tokens in first review\n",
    "print('Tokenized review: \\n', (reviews_ints[:1]))"
   ]
  },
  {
   "cell_type": "code",
   "execution_count": null,
   "metadata": {
    "tags": []
   },
   "outputs": [],
   "source": []
  },
  {
   "cell_type": "markdown",
   "metadata": {},
   "source": [
    "### Encoding the labels\n",
    "\n",
    "Our labels are \"positive\" or \"negative\". To use these labels in our network, we need to convert them to 0 and 1.\n",
    "\n",
    "> **Exercise:** Convert labels from `positive` and `negative` to 1 and 0, respectively, and place those in a new list, `encoded_labels`."
   ]
  },
  {
   "cell_type": "code",
   "execution_count": 9,
   "metadata": {
    "tags": []
   },
   "outputs": [],
   "source": [
    "# 1=positive, 0=negative label conversion\n",
    "labels_list = labels.split('\\n')\n",
    "\n",
    "encoded_labels = []\n",
    "for label in labels_list:\n",
    "    if label == 'positive':\n",
    "        encoded_labels.append(1)\n",
    "    else:\n",
    "        encoded_labels.append(0)\n",
    "\n"
   ]
  },
  {
   "cell_type": "markdown",
   "metadata": {},
   "source": [
    "### Removing Outliers\n",
    "\n",
    "As an additional pre-processing step, we want to make sure that our reviews are in good shape for standard processing. That is, our network will expect a standard input text size, and so, we'll want to shape our reviews into a specific length. We'll approach this task in two main steps:\n",
    "\n",
    "1. Getting rid of extremely long or short reviews; the outliers\n",
    "2. Padding/truncating the remaining data so that we have reviews of the same length.\n",
    "\n",
    "<img src=\"assets/outliers_padding_ex.png\" width=40%>\n",
    "\n",
    "Before we pad our review text, we should check for reviews of extremely short or long lengths; outliers that may mess with our training."
   ]
  },
  {
   "cell_type": "code",
   "execution_count": 10,
   "metadata": {
    "tags": []
   },
   "outputs": [
    {
     "output_type": "stream",
     "name": "stdout",
     "text": "Zero-length reviews: 1\nMaximum review length: 2514\n25001 25001\n"
    }
   ],
   "source": [
    "# outlier review stats\n",
    "review_lens = Counter([len(x) for x in reviews_ints])\n",
    "print(\"Zero-length reviews: {}\".format(review_lens[0]))\n",
    "print(\"Maximum review length: {}\".format(max(review_lens)))\n",
    "print(len(reviews_ints) ,len(encoded_labels))"
   ]
  },
  {
   "cell_type": "markdown",
   "metadata": {},
   "source": [
    "Okay, a couple issues here. We seem to have one review with zero length. And, the maximum review length is way too many steps for our RNN. We'll have to remove any super short reviews and truncate super long reviews. This removes outliers and should allow our model to train more efficiently.\n",
    "\n",
    "> **Exercise:** First, remove *any* reviews with zero length from the `reviews_ints` list and their corresponding label in `encoded_labels`."
   ]
  },
  {
   "cell_type": "code",
   "execution_count": 11,
   "metadata": {
    "tags": []
   },
   "outputs": [
    {
     "output_type": "stream",
     "name": "stdout",
     "text": "Number of reviews before removing outliers:  25001\nNumber of reviews after removing outliers:  25000\n"
    }
   ],
   "source": [
    "print('Number of reviews before removing outliers: ', len(reviews_ints))\n",
    "\n",
    "## remove any reviews/labels with zero length from the reviews_ints list.\n",
    "for review in range(len(reviews_ints)):\n",
    "    if len(reviews_ints[review]) == 0:\n",
    "        del reviews_ints[review]\n",
    "        del encoded_labels[review]\n",
    "\n",
    "\n",
    "print('Number of reviews after removing outliers: ', len(reviews_ints))"
   ]
  },
  {
   "cell_type": "markdown",
   "metadata": {},
   "source": [
    "---\n",
    "## Padding sequences\n",
    "\n",
    "To deal with both short and very long reviews, we'll pad or truncate all our reviews to a specific length. For reviews shorter than some `seq_length`, we'll pad with 0s. For reviews longer than `seq_length`, we can truncate them to the first `seq_length` words. A good `seq_length`, in this case, is 200.\n",
    "\n",
    "> **Exercise:** Define a function that returns an array `features` that contains the padded data, of a standard size, that we'll pass to the network. \n",
    "* The data should come from `review_ints`, since we want to feed integers to the network. \n",
    "* Each row should be `seq_length` elements long. \n",
    "* For reviews shorter than `seq_length` words, **left pad** with 0s. That is, if the review is `['best', 'movie', 'ever']`, `[117, 18, 128]` as integers, the row will look like `[0, 0, 0, ..., 0, 117, 18, 128]`. \n",
    "* For reviews longer than `seq_length`, use only the first `seq_length` words as the feature vector.\n",
    "\n",
    "As a small example, if the `seq_length=10` and an input review is: \n",
    "```\n",
    "[117, 18, 128]\n",
    "```\n",
    "The resultant, padded sequence should be: \n",
    "\n",
    "```\n",
    "[0, 0, 0, 0, 0, 0, 0, 117, 18, 128]\n",
    "```\n",
    "\n",
    "**Your final `features` array should be a 2D array, with as many rows as there are reviews, and as many columns as the specified `seq_length`.**\n",
    "\n",
    "This isn't trivial and there are a bunch of ways to do this. But, if you're going to be building your own deep learning networks, you're going to have to get used to preparing your data."
   ]
  },
  {
   "cell_type": "code",
   "execution_count": 12,
   "metadata": {},
   "outputs": [],
   "source": [
    "def pad_features(reviews_ints, seq_length,predict = False):\n",
    "    ''' Return features of review_ints, where each review is padded with 0's \n",
    "        or truncated to the input seq_length.\n",
    "    '''\n",
    "    ## implement function\n",
    "    #create empty numpy array of correct shape\n",
    "    features = np.zeros((len(reviews_ints),seq_length),dtype =int )\n",
    "    #start a count at 0 to correctly put review in correct row\n",
    "    count = 0\n",
    "    if predict == True:\n",
    "        for word in reviews_ints:\n",
    "            if len(reviews_ints) < seq_length:\n",
    "                while len(reviews_ints) < seq_length:\n",
    "                    reviews_ints.insert(0,0)\n",
    "            \n",
    "         #if len review is too long , clip it and add it to the array\n",
    "            elif len(reviews_ints) > seq_length:\n",
    "                reviews_ints = review_ints[:seq_length]\n",
    "                \n",
    "            else:\n",
    "                #if its the right size, add it straight up.\n",
    "                reviews_ints = reviews_ints\n",
    "        return reviews_ints\n",
    "\n",
    "    for review in reviews_ints:\n",
    "        #if len review is too short , add 0's to the left until its the proper sequence length and add it to the arrau.\n",
    "        if len(review) < seq_length:\n",
    "            while len(review) < seq_length:\n",
    "                review.insert(0,0)\n",
    "            features[count] = review\n",
    "         #if len review is too long , clip it and add it to the array\n",
    "        elif len(review) > seq_length:\n",
    "            review = review[:seq_length]\n",
    "            features[count] = review\n",
    "        else:\n",
    "            #if its the right size, add it straight up.\n",
    "            features[count] = review\n",
    "        count += 1\n",
    "\n",
    "            \n",
    "    \n",
    "    return features"
   ]
  },
  {
   "cell_type": "code",
   "execution_count": 13,
   "metadata": {
    "tags": []
   },
   "outputs": [
    {
     "output_type": "stream",
     "name": "stdout",
     "text": "[[    0     0     0 ...     8   215    23]\n [    0     0     0 ...    29   108  3340]\n [23827    42 66198 ...   483    17     3]\n ...\n [    0     0     0 ...    59   429  1779]\n [    0     0     0 ...    55   201    18]\n [    0     0     0 ...    18    17  1192]]\n"
    }
   ],
   "source": [
    "# Test your implementation!\n",
    "\n",
    "seq_length = 200\n",
    "\n",
    "features = pad_features(reviews_ints, seq_length=seq_length)\n",
    "\n",
    "## test statements - do not change - ##\n",
    "assert len(features)==len(reviews_ints), \"Your features should have as many rows as reviews.\"\n",
    "assert len(features[0])==seq_length, \"Each feature row should contain seq_length values.\"\n",
    "\n",
    "# print first 10 values of the first 30 batches \n",
    "print(features[:30,:200])"
   ]
  },
  {
   "cell_type": "markdown",
   "metadata": {},
   "source": [
    "## Training, Validation, Test\n",
    "\n",
    "With our data in nice shape, we'll split it into training, validation, and test sets.\n",
    "\n",
    "> **Exercise:** Create the training, validation, and test sets. \n",
    "* You'll need to create sets for the features and the labels, `train_x` and `train_y`, for example. \n",
    "* Define a split fraction, `split_frac` as the fraction of data to **keep** in the training set. Usually this is set to 0.8 or 0.9. \n",
    "* Whatever data is left will be split in half to create the validation and *testing* data."
   ]
  },
  {
   "cell_type": "code",
   "execution_count": 14,
   "metadata": {
    "tags": []
   },
   "outputs": [
    {
     "output_type": "stream",
     "name": "stdout",
     "text": "(20000, 200)\n(2500, 200)\n(2500, 200)\n"
    }
   ],
   "source": [
    "split_frac = 0.8\n",
    "from sklearn.model_selection import train_test_split\n",
    "\n",
    "## split data into training, validation, and test data (features and labels, x and y)\n",
    "X_train, X_test, y__train, y_test = train_test_split(features, np.array(encoded_labels), train_size = split_frac, test_size = 0.2)\n",
    "X_valid, X_test, Y_valid, Y_test = train_test_split(X_test, y_test, train_size = 0.5, test_size = 0.5)\n",
    "\n",
    "\n",
    "## print out the shapes of your resultant feature data\n",
    "\n",
    "print(X_train.shape)\n",
    "print(X_valid.shape)\n",
    "print(X_test.shape)"
   ]
  },
  {
   "cell_type": "markdown",
   "metadata": {},
   "source": [
    "**Check your work**\n",
    "\n",
    "With train, validation, and test fractions equal to 0.8, 0.1, 0.1, respectively, the final, feature data shapes should look like:\n",
    "```\n",
    "                    Feature Shapes:\n",
    "Train set: \t\t (20000, 200) \n",
    "Validation set: \t(2500, 200) \n",
    "Test set: \t\t  (2500, 200)\n",
    "```"
   ]
  },
  {
   "cell_type": "markdown",
   "metadata": {},
   "source": [
    "---\n",
    "## DataLoaders and Batching\n",
    "\n",
    "After creating training, test, and validation data, we can create DataLoaders for this data by following two steps:\n",
    "1. Create a known format for accessing our data, using [TensorDataset](https://pytorch.org/docs/stable/data.html#) which takes in an input set of data and a target set of data with the same first dimension, and creates a dataset.\n",
    "2. Create DataLoaders and batch our training, validation, and test Tensor datasets.\n",
    "\n",
    "```\n",
    "train_data = TensorDataset(torch.from_numpy(train_x), torch.from_numpy(train_y))\n",
    "train_loader = DataLoader(train_data, batch_size=batch_size)\n",
    "```\n",
    "\n",
    "This is an alternative to creating a generator function for batching our data into full batches."
   ]
  },
  {
   "cell_type": "code",
   "execution_count": 15,
   "metadata": {},
   "outputs": [],
   "source": [
    "import torch\n",
    "from torch.utils.data import TensorDataset, DataLoader\n",
    "\n",
    "# create Tensor datasets\n",
    "train_data = TensorDataset(torch.from_numpy(X_train), torch.from_numpy(y__train))\n",
    "valid_data = TensorDataset(torch.from_numpy(X_valid), torch.from_numpy(Y_valid))\n",
    "test_data = TensorDataset(torch.from_numpy(X_test), torch.from_numpy(Y_test))\n",
    "\n",
    "# dataloaders\n",
    "batch_size = 50\n",
    "\n",
    "# make sure to SHUFFLE your data\n",
    "train_loader = DataLoader(train_data, shuffle=True, batch_size=batch_size)\n",
    "valid_loader = DataLoader(valid_data, shuffle=True, batch_size=batch_size)\n",
    "test_loader = DataLoader(test_data, shuffle=True, batch_size=batch_size)"
   ]
  },
  {
   "cell_type": "code",
   "execution_count": 16,
   "metadata": {
    "tags": []
   },
   "outputs": [
    {
     "output_type": "stream",
     "name": "stdout",
     "text": "Sample input size:  torch.Size([50, 200])\nSample input: \n tensor([[   0,    0,    0,  ...,  355,    5,  122],\n        [ 157, 2700, 4258,  ...,  155,  339,    6],\n        [ 673, 1643,  512,  ...,   16, 2476,    8],\n        ...,\n        [   0,    0,    0,  ...,  139,  108,    8],\n        [   0,    0,    0,  ..., 1431,   11,   63],\n        [2954,   56,    2,  ...,  304, 3495,    1]], dtype=torch.int32)\n\nSample label size:  torch.Size([50])\nSample label: \n tensor([1, 1, 1, 1, 1, 1, 1, 1, 1, 0, 1, 0, 0, 0, 1, 0, 1, 0, 1, 0, 0, 0, 0, 0,\n        1, 0, 1, 1, 1, 0, 0, 0, 0, 0, 0, 1, 1, 0, 0, 0, 0, 1, 1, 0, 1, 0, 1, 1,\n        1, 0], dtype=torch.int32)\n"
    }
   ],
   "source": [
    "# obtain one batch of training data\n",
    "dataiter = iter(train_loader)\n",
    "sample_x, sample_y = dataiter.next()\n",
    "\n",
    "print('Sample input size: ', sample_x.size()) # batch_size, seq_length\n",
    "print('Sample input: \\n', sample_x)\n",
    "print()\n",
    "print('Sample label size: ', sample_y.size()) # batch_size\n",
    "print('Sample label: \\n', sample_y)"
   ]
  },
  {
   "cell_type": "markdown",
   "metadata": {},
   "source": [
    "---\n",
    "# Sentiment Network with PyTorch\n",
    "\n",
    "Below is where you'll define the network.\n",
    "\n",
    "<img src=\"assets/network_diagram.png\" width=40%>\n",
    "\n",
    "The layers are as follows:\n",
    "1. An [embedding layer](https://pytorch.org/docs/stable/nn.html#embedding) that converts our word tokens (integers) into embeddings of a specific size.\n",
    "2. An [LSTM layer](https://pytorch.org/docs/stable/nn.html#lstm) defined by a hidden_state size and number of layers\n",
    "3. A fully-connected output layer that maps the LSTM layer outputs to a desired output_size\n",
    "4. A sigmoid activation layer which turns all outputs into a value 0-1; return **only the last sigmoid output** as the output of this network.\n",
    "\n",
    "### The Embedding Layer\n",
    "\n",
    "We need to add an [embedding layer](https://pytorch.org/docs/stable/nn.html#embedding) because there are 74000+ words in our vocabulary. It is massively inefficient to one-hot encode that many classes. So, instead of one-hot encoding, we can have an embedding layer and use that layer as a lookup table. You could train an embedding layer using Word2Vec, then load it here. But, it's fine to just make a new layer, using it for only dimensionality reduction, and let the network learn the weights.\n",
    "\n",
    "\n",
    "### The LSTM Layer(s)\n",
    "\n",
    "We'll create an [LSTM](https://pytorch.org/docs/stable/nn.html#lstm) to use in our recurrent network, which takes in an input_size, a hidden_dim, a number of layers, a dropout probability (for dropout between multiple layers), and a batch_first parameter.\n",
    "\n",
    "Most of the time, you're network will have better performance with more layers; between 2-3. Adding more layers allows the network to learn really complex relationships. \n",
    "\n",
    "> **Exercise:** Complete the `__init__`, `forward`, and `init_hidden` functions for the SentimentRNN model class.\n",
    "\n",
    "Note: `init_hidden` should initialize the hidden and cell state of an lstm layer to all zeros, and move those state to GPU, if available."
   ]
  },
  {
   "cell_type": "code",
   "execution_count": 25,
   "metadata": {
    "tags": []
   },
   "outputs": [
    {
     "output_type": "stream",
     "name": "stdout",
     "text": "Training on GPU.\n"
    }
   ],
   "source": [
    "# First checking if GPU is available\n",
    "train_on_gpu=torch.cuda.is_available()\n",
    "\n",
    "if(train_on_gpu):\n",
    "    print('Training on GPU.')\n",
    "else:\n",
    "    print('No GPU available, training on CPU.')"
   ]
  },
  {
   "cell_type": "code",
   "execution_count": 26,
   "metadata": {},
   "outputs": [],
   "source": [
    "import torch.nn as nn\n",
    "import torch.nn.functional as F\n",
    "class SentimentRNN(nn.Module):\n",
    "    \"\"\"\n",
    "    The RNN model that will be used to perform Sentiment analysis.\n",
    "    \"\"\"\n",
    "\n",
    "    def __init__(self, vocab_size, output_size, embedding_dim, hidden_dim, n_layers, drop_prob=0.5):\n",
    "        \"\"\"\n",
    "        Initialize the model by setting up the layers.\n",
    "        \"\"\"\n",
    "        super(SentimentRNN, self).__init__()\n",
    "\n",
    "        self.output_size = output_size\n",
    "        self.n_layers = n_layers\n",
    "        self.hidden_dim = hidden_dim\n",
    "        \n",
    "        # define all layers\n",
    "        #define embedding layer\n",
    "        self.embd = nn.Embedding(vocab_size,embedding_dim)\n",
    "        #define lstm cells\n",
    "        self.lstm = nn.LSTM(embedding_dim,hidden_dim,n_layers,batch_first=True,dropout=drop_prob)\n",
    "        #define linear layer\n",
    "        self.fc = nn.Linear(hidden_dim,output_size)\n",
    "        #define dropout layer\n",
    "        self.dropout = nn.Dropout(p = drop_prob)\n",
    "        \n",
    "        \n",
    "    def forward(self, x, hidden):\n",
    "        \"\"\"\n",
    "        Perform a forward pass of our model on some input and hidden state.\n",
    "        \"\"\"\n",
    "        #reserve batch_size\n",
    "        batch_size = x.shape[0]\n",
    "        #pass vocab thru embedding layer to reduce dimensionality\n",
    "        x = x.long()\n",
    "        x = self.embd(x)\n",
    "        #pass thru lstm cells\n",
    "        x,hidden = self.lstm(x,hidden)\n",
    "        #dropout to reduce overfitting\n",
    "        x = self.dropout(x)\n",
    "        #flatten the output to fit into linear layer\n",
    "        x = x.contiguous().view(-1,self.hidden_dim)\n",
    "        #send input into linear layer\n",
    "        x = self.fc(x)\n",
    "        #apply sigmoid function\n",
    "        sig_out = F.sigmoid(x)\n",
    "        #reshape to have batch_size first\n",
    "        sig_out = sig_out.view(batch_size,-1)\n",
    "        # get last batch of labels , we are only interested in the final output as we are using an RNN, as the final output (last batch) will be affected by all the previous memory,          earlier outputs are not important as they are npt affected by al the previous memory.\n",
    "        sig_out = sig_out[:, -1]        \n",
    "        # return last sigmoid output and hidden state\n",
    "        return sig_out, hidden\n",
    "    \n",
    "    \n",
    "    def init_hidden(self, batch_size):\n",
    "        ''' Initializes hidden state '''\n",
    "        # Create two new tensors with sizes n_layers x batch_size x hidden_dim,\n",
    "        # initialized to zero, for hidden state and cell state of LSTM\n",
    "        weight = next(self.parameters()).data\n",
    "        #initialize weights at 0 (long term and short term memory of LSTM)\n",
    "        hidden = (weight.new(self.n_layers, batch_size, self.hidden_dim).zero_().cuda(),\n",
    "                  weight.new(self.n_layers, batch_size, self.hidden_dim).zero_().cuda())\n",
    "        return hidden\n",
    "        "
   ]
  },
  {
   "cell_type": "markdown",
   "metadata": {},
   "source": [
    "## Instantiate the network\n",
    "\n",
    "Here, we'll instantiate the network. First up, defining the hyperparameters.\n",
    "\n",
    "* `vocab_size`: Size of our vocabulary or the range of values for our input, word tokens.\n",
    "* `output_size`: Size of our desired output; the number of class scores we want to output (pos/neg).\n",
    "* `embedding_dim`: Number of columns in the embedding lookup table; size of our embeddings.\n",
    "* `hidden_dim`: Number of units in the hidden layers of our LSTM cells. Usually larger is better performance wise. Common values are 128, 256, 512, etc.\n",
    "* `n_layers`: Number of LSTM layers in the network. Typically between 1-3\n",
    "\n",
    "> **Exercise:** Define the model  hyperparameters.\n"
   ]
  },
  {
   "cell_type": "code",
   "execution_count": 27,
   "metadata": {
    "tags": []
   },
   "outputs": [
    {
     "output_type": "stream",
     "name": "stdout",
     "text": "SentimentRNN(\n  (embd): Embedding(74073, 400)\n  (lstm): LSTM(400, 256, num_layers=3, batch_first=True, dropout=0.5)\n  (fc): Linear(in_features=256, out_features=1, bias=True)\n  (dropout): Dropout(p=0.5, inplace=False)\n)\n"
    }
   ],
   "source": [
    "\n",
    "# Instantiate the model w/ hyperparams\n",
    "vocab_size = len(vocab_to_int)+1 # +1 for the 0 padding + our word tokens\n",
    "output_size = 1\n",
    "embedding_dim = 400\n",
    "hidden_dim = 256\n",
    "n_layers = 3\n",
    "\n",
    "net = SentimentRNN(vocab_size, output_size, embedding_dim, hidden_dim, n_layers)\n",
    "\n",
    "print(net)"
   ]
  },
  {
   "cell_type": "markdown",
   "metadata": {},
   "source": [
    "---\n",
    "## Training\n",
    "\n",
    "Below is the typical training code. If you want to do this yourself, feel free to delete all this code and implement it yourself. You can also add code to save a model by name.\n",
    "\n",
    ">We'll also be using a new kind of cross entropy loss, which is designed to work with a single Sigmoid output. [BCELoss](https://pytorch.org/docs/stable/nn.html#bceloss), or **Binary Cross Entropy Loss**, applies cross entropy loss to a single value between 0 and 1.\n",
    "\n",
    "We also have some data and training hyparameters:\n",
    "\n",
    "* `lr`: Learning rate for our optimizer.\n",
    "* `epochs`: Number of times to iterate through the training dataset.\n",
    "* `clip`: The maximum gradient value to clip at (to prevent exploding gradients)."
   ]
  },
  {
   "cell_type": "code",
   "execution_count": 28,
   "metadata": {},
   "outputs": [],
   "source": [
    "# loss and optimization functions\n",
    "lr=0.001\n",
    "\n",
    "criterion = nn.BCELoss()\n",
    "optimizer = torch.optim.Adam(net.parameters(), lr=lr)\n"
   ]
  },
  {
   "cell_type": "code",
   "execution_count": 29,
   "metadata": {
    "scrolled": true,
    "tags": []
   },
   "outputs": [
    {
     "output_type": "stream",
     "name": "stdout",
     "text": "Epoch: 1/4... Step: 100... Loss: 0.592703... Val Loss: 0.637141\nEpoch: 1/4... Step: 200... Loss: 0.703645... Val Loss: 0.692934\nEpoch: 1/4... Step: 300... Loss: 0.693043... Val Loss: 0.692159\nEpoch: 1/4... Step: 400... Loss: 0.681617... Val Loss: 0.689068\nEpoch: 2/4... Step: 500... Loss: 0.714300... Val Loss: 0.664513\nEpoch: 2/4... Step: 600... Loss: 0.691784... Val Loss: 0.690938\nEpoch: 2/4... Step: 700... Loss: 0.746050... Val Loss: 0.695141\nEpoch: 2/4... Step: 800... Loss: 0.655866... Val Loss: 0.622707\nEpoch: 3/4... Step: 900... Loss: 0.523704... Val Loss: 0.525310\nEpoch: 3/4... Step: 1000... Loss: 0.742267... Val Loss: 0.638053\nEpoch: 3/4... Step: 1100... Loss: 0.333520... Val Loss: 0.439916\nEpoch: 3/4... Step: 1200... Loss: 0.410217... Val Loss: 0.412470\nEpoch: 4/4... Step: 1300... Loss: 0.242683... Val Loss: 0.426985\nEpoch: 4/4... Step: 1400... Loss: 0.349314... Val Loss: 0.412287\nEpoch: 4/4... Step: 1500... Loss: 0.213838... Val Loss: 0.400556\nEpoch: 4/4... Step: 1600... Loss: 0.185887... Val Loss: 0.450537\n"
    }
   ],
   "source": [
    "# training params\n",
    "\n",
    "epochs = 4 # 3-4 is approx where I noticed the validation loss stop decreasing\n",
    "\n",
    "counter = 0\n",
    "print_every = 100\n",
    "clip=5 # gradient clipping\n",
    "\n",
    "# move model to GPU, if available\n",
    "if(train_on_gpu):\n",
    "    net.cuda()\n",
    "\n",
    "net.train()\n",
    "# train for some number of epochs\n",
    "for e in range(epochs):\n",
    "    # initialize hidden state\n",
    "    h = net.init_hidden(batch_size)\n",
    "\n",
    "    # batch loop\n",
    "    for inputs, labels in train_loader:\n",
    "        counter += 1\n",
    "\n",
    "        if(train_on_gpu):\n",
    "            inputs, labels = inputs.cuda(), labels.cuda()\n",
    "\n",
    "        # Creating new variables for the hidden state, otherwise\n",
    "        # we'd backprop through the entire training history\n",
    "        h = tuple([each.data for each in h])\n",
    "\n",
    "        # zero accumulated gradients\n",
    "        net.zero_grad()\n",
    "\n",
    "        # get the output from the model\n",
    "        output, h = net(inputs, h)\n",
    "        \n",
    "        # calculate the loss and perform backprop\n",
    "        loss = criterion(output.squeeze(), labels.float())\n",
    "        loss.backward()\n",
    "        # `clip_grad_norm` helps prevent the exploding gradient problem in RNNs / LSTMs.\n",
    "        nn.utils.clip_grad_norm_(net.parameters(), clip)\n",
    "        optimizer.step()\n",
    "\n",
    "        # loss stats\n",
    "        if counter % print_every == 0:\n",
    "            # Get validation loss\n",
    "            val_h = net.init_hidden(batch_size)\n",
    "            val_losses = []\n",
    "            net.eval()\n",
    "            for inputs, labels in valid_loader:\n",
    "\n",
    "                # Creating new variables for the hidden state, otherwise\n",
    "                # we'd backprop through the entire training history\n",
    "                val_h = tuple([each.data for each in val_h])\n",
    "\n",
    "                if(train_on_gpu):\n",
    "                    inputs, labels = inputs.cuda(), labels.cuda()\n",
    "\n",
    "                output, val_h = net(inputs, val_h)\n",
    "                val_loss = criterion(output.squeeze(), labels.float())\n",
    "\n",
    "                val_losses.append(val_loss.item())\n",
    "                \n",
    "            net.train()\n",
    "            print(\"Epoch: {}/{}...\".format(e+1, epochs),\n",
    "                  \"Step: {}...\".format(counter),\n",
    "                  \"Loss: {:.6f}...\".format(loss.item()),\n",
    "                  \"Val Loss: {:.6f}\".format(np.mean(val_losses)))"
   ]
  },
  {
   "cell_type": "markdown",
   "metadata": {},
   "source": [
    "---\n",
    "## Testing\n",
    "\n",
    "There are a few ways to test your network.\n",
    "\n",
    "* **Test data performance:** First, we'll see how our trained model performs on all of our defined test_data, above. We'll calculate the average loss and accuracy over the test data.\n",
    "\n",
    "* **Inference on user-generated data:** Second, we'll see if we can input just one example review at a time (without a label), and see what the trained model predicts. Looking at new, user input data like this, and predicting an output label, is called **inference**."
   ]
  },
  {
   "cell_type": "code",
   "execution_count": 41,
   "metadata": {
    "tags": [
     "outputPrepend"
    ]
   },
   "outputs": [
    {
     "output_type": "stream",
     "name": "stdout",
     "text": ")\ntensor([0.9728, 0.0165, 0.0166, 0.9799, 0.0255, 0.0213, 0.0189, 0.9667, 0.0164,\n        0.7211, 0.0298, 0.9676, 0.0167, 0.0164, 0.2887, 0.0205, 0.0227, 0.0176,\n        0.0162, 0.0183, 0.0232, 0.1191, 0.3439, 0.9103, 0.8706, 0.9816, 0.0165,\n        0.0171, 0.3776, 0.0176, 0.9761, 0.0172, 0.9777, 0.9823, 0.9812, 0.1244,\n        0.9834, 0.9753, 0.0208, 0.9750, 0.0204, 0.0458, 0.0186, 0.9562, 0.6332,\n        0.0185, 0.0167, 0.9826, 0.0265, 0.0172], device='cuda:0',\n       grad_fn=<SelectBackward>)\ntensor([0.1220, 0.0167, 0.9596, 0.9682, 0.8330, 0.0819, 0.0235, 0.0247, 0.9786,\n        0.0363, 0.9793, 0.0182, 0.8661, 0.0291, 0.9048, 0.8476, 0.9753, 0.0874,\n        0.0196, 0.7431, 0.0180, 0.9806, 0.0276, 0.9829, 0.0213, 0.9760, 0.9797,\n        0.0163, 0.2056, 0.5332, 0.9795, 0.0336, 0.0390, 0.9832, 0.9806, 0.1353,\n        0.9833, 0.0204, 0.9823, 0.1759, 0.9760, 0.0376, 0.0226, 0.9313, 0.0266,\n        0.9798, 0.0178, 0.9820, 0.0178, 0.0165], device='cuda:0',\n       grad_fn=<SelectBackward>)\ntensor([0.4604, 0.9831, 0.9803, 0.0278, 0.0214, 0.0678, 0.0243, 0.5055, 0.0197,\n        0.3599, 0.9827, 0.0435, 0.0915, 0.0167, 0.2665, 0.0250, 0.0180, 0.6439,\n        0.0162, 0.7833, 0.0164, 0.1057, 0.0398, 0.0212, 0.6383, 0.0182, 0.0378,\n        0.0173, 0.0190, 0.8773, 0.1310, 0.0440, 0.0419, 0.3088, 0.0169, 0.9703,\n        0.0207, 0.0194, 0.0181, 0.0167, 0.0189, 0.0344, 0.0839, 0.0265, 0.0214,\n        0.1134, 0.0168, 0.9768, 0.0394, 0.8595], device='cuda:0',\n       grad_fn=<SelectBackward>)\ntensor([0.8083, 0.0188, 0.0177, 0.0169, 0.0765, 0.0191, 0.9820, 0.0220, 0.4384,\n        0.8978, 0.1172, 0.0211, 0.9267, 0.9822, 0.9778, 0.9821, 0.0201, 0.0208,\n        0.0167, 0.6061, 0.9829, 0.0230, 0.0176, 0.0360, 0.5508, 0.1017, 0.9520,\n        0.0300, 0.0173, 0.0182, 0.6848, 0.0212, 0.0227, 0.5754, 0.0249, 0.6655,\n        0.9825, 0.4908, 0.9764, 0.8652, 0.0187, 0.9550, 0.8975, 0.7294, 0.9633,\n        0.1499, 0.9823, 0.9809, 0.1835, 0.1313], device='cuda:0',\n       grad_fn=<SelectBackward>)\ntensor([0.5544, 0.0222, 0.0348, 0.0221, 0.9622, 0.0196, 0.0725, 0.0167, 0.0185,\n        0.9661, 0.0185, 0.0830, 0.0165, 0.1225, 0.1463, 0.9821, 0.0215, 0.0607,\n        0.9827, 0.9819, 0.9758, 0.0357, 0.0382, 0.0213, 0.9754, 0.9658, 0.9787,\n        0.2414, 0.7470, 0.9836, 0.0173, 0.0214, 0.0353, 0.0183, 0.4446, 0.9780,\n        0.9826, 0.0164, 0.0240, 0.0186, 0.0231, 0.8857, 0.9759, 0.9792, 0.9826,\n        0.9643, 0.0176, 0.1604, 0.0203, 0.9705], device='cuda:0',\n       grad_fn=<SelectBackward>)\ntensor([0.3376, 0.9836, 0.0162, 0.0171, 0.0169, 0.8919, 0.9742, 0.9567, 0.8416,\n        0.9794, 0.0171, 0.8350, 0.9020, 0.1759, 0.2272, 0.8613, 0.9659, 0.9688,\n        0.9730, 0.9823, 0.0175, 0.0382, 0.0611, 0.2458, 0.9487, 0.0249, 0.9044,\n        0.2923, 0.0190, 0.0208, 0.0455, 0.0176, 0.0163, 0.9736, 0.2555, 0.9804,\n        0.9829, 0.8606, 0.0203, 0.0920, 0.0196, 0.0837, 0.9051, 0.9795, 0.9745,\n        0.1183, 0.9605, 0.0174, 0.9761, 0.1584], device='cuda:0',\n       grad_fn=<SelectBackward>)\ntensor([0.9361, 0.9013, 0.9826, 0.5863, 0.2579, 0.2591, 0.4214, 0.7651, 0.5298,\n        0.9819, 0.0192, 0.9758, 0.9776, 0.0171, 0.9495, 0.0461, 0.0222, 0.0226,\n        0.0258, 0.9376, 0.9818, 0.4599, 0.0498, 0.0175, 0.8745, 0.0282, 0.4610,\n        0.1195, 0.8567, 0.3313, 0.0223, 0.3814, 0.0179, 0.0217, 0.0228, 0.9833,\n        0.9333, 0.0597, 0.0173, 0.1258, 0.0167, 0.9761, 0.0768, 0.9738, 0.9715,\n        0.4037, 0.9804, 0.7450, 0.9814, 0.8273], device='cuda:0',\n       grad_fn=<SelectBackward>)\ntensor([0.9572, 0.0182, 0.9780, 0.9833, 0.0205, 0.9830, 0.6547, 0.8416, 0.0173,\n        0.0172, 0.1224, 0.9814, 0.0176, 0.9408, 0.0354, 0.3648, 0.0199, 0.9621,\n        0.0628, 0.0196, 0.7434, 0.9817, 0.9782, 0.9578, 0.9796, 0.0186, 0.0187,\n        0.0203, 0.1424, 0.0180, 0.7508, 0.9730, 0.9738, 0.7983, 0.9825, 0.9601,\n        0.3827, 0.9802, 0.9806, 0.0814, 0.0192, 0.9815, 0.7628, 0.0884, 0.0175,\n        0.0235, 0.9612, 0.9803, 0.1111, 0.9761], device='cuda:0',\n       grad_fn=<SelectBackward>)\ntensor([0.9657, 0.0643, 0.9819, 0.9554, 0.0204, 0.6942, 0.5162, 0.9403, 0.0738,\n        0.8490, 0.0204, 0.9710, 0.2574, 0.9814, 0.9778, 0.0187, 0.0202, 0.9809,\n        0.0184, 0.9749, 0.0189, 0.0753, 0.0216, 0.0183, 0.0200, 0.9553, 0.0266,\n        0.0163, 0.9769, 0.0206, 0.0414, 0.0172, 0.8920, 0.9815, 0.0204, 0.0591,\n        0.0164, 0.0266, 0.0173, 0.2043, 0.9749, 0.0311, 0.9808, 0.9018, 0.9599,\n        0.0360, 0.0188, 0.9513, 0.9820, 0.6301], device='cuda:0',\n       grad_fn=<SelectBackward>)\ntensor([0.0184, 0.0184, 0.0480, 0.0182, 0.9642, 0.9379, 0.9765, 0.6767, 0.9562,\n        0.8821, 0.0205, 0.0196, 0.4028, 0.9716, 0.0205, 0.9815, 0.6929, 0.9826,\n        0.0181, 0.4114, 0.0481, 0.9069, 0.9556, 0.5369, 0.9758, 0.1472, 0.0165,\n        0.0182, 0.7713, 0.1193, 0.0508, 0.9151, 0.0166, 0.0177, 0.9831, 0.0353,\n        0.8381, 0.0186, 0.7066, 0.6967, 0.0329, 0.6355, 0.2433, 0.1138, 0.9816,\n        0.0181, 0.9757, 0.0222, 0.0288, 0.0212], device='cuda:0',\n       grad_fn=<SelectBackward>)\ntensor([0.9822, 0.9817, 0.4170, 0.8735, 0.0217, 0.0356, 0.9578, 0.1248, 0.0197,\n        0.0188, 0.1422, 0.9300, 0.0172, 0.0525, 0.0166, 0.9792, 0.0248, 0.9661,\n        0.0194, 0.0172, 0.2528, 0.0228, 0.0173, 0.0418, 0.9829, 0.8649, 0.0200,\n        0.0540, 0.0173, 0.0198, 0.5474, 0.0324, 0.9799, 0.7309, 0.0375, 0.0226,\n        0.0185, 0.9460, 0.0186, 0.9732, 0.9691, 0.9794, 0.7795, 0.9826, 0.0183,\n        0.2032, 0.3015, 0.9799, 0.0229, 0.0486], device='cuda:0',\n       grad_fn=<SelectBackward>)\ntensor([0.0195, 0.8520, 0.0208, 0.8379, 0.0351, 0.0217, 0.0190, 0.3206, 0.9799,\n        0.7807, 0.9834, 0.7862, 0.9773, 0.2004, 0.9644, 0.9815, 0.8254, 0.0201,\n        0.0310, 0.0175, 0.0686, 0.6613, 0.0167, 0.1146, 0.9804, 0.0176, 0.8978,\n        0.9802, 0.8754, 0.4780, 0.0172, 0.0231, 0.4822, 0.0167, 0.9821, 0.0166,\n        0.9231, 0.9799, 0.0490, 0.0167, 0.9808, 0.9778, 0.0341, 0.9818, 0.9755,\n        0.6451, 0.0194, 0.0231, 0.0187, 0.1213], device='cuda:0',\n       grad_fn=<SelectBackward>)\ntensor([0.0981, 0.0164, 0.0163, 0.0177, 0.8945, 0.1804, 0.0251, 0.0285, 0.9798,\n        0.6074, 0.0204, 0.0182, 0.0225, 0.0189, 0.9497, 0.9804, 0.0179, 0.0396,\n        0.4933, 0.4664, 0.9781, 0.0233, 0.9817, 0.0164, 0.9828, 0.2500, 0.9567,\n        0.0165, 0.9816, 0.9737, 0.4518, 0.0181, 0.0170, 0.2048, 0.9570, 0.9657,\n        0.0167, 0.9153, 0.0271, 0.1746, 0.3052, 0.3468, 0.9621, 0.9830, 0.0182,\n        0.1061, 0.0214, 0.0182, 0.0171, 0.0992], device='cuda:0',\n       grad_fn=<SelectBackward>)\ntensor([0.9827, 0.4141, 0.0532, 0.9825, 0.0305, 0.1125, 0.4280, 0.9687, 0.0220,\n        0.0165, 0.0193, 0.9060, 0.0210, 0.8535, 0.0195, 0.0243, 0.9751, 0.9764,\n        0.0171, 0.0172, 0.0180, 0.9813, 0.9809, 0.0182, 0.4403, 0.0229, 0.0587,\n        0.0411, 0.0213, 0.9063, 0.0173, 0.1918, 0.0169, 0.9804, 0.9831, 0.0201,\n        0.8365, 0.9835, 0.9802, 0.9767, 0.0452, 0.0172, 0.7543, 0.0238, 0.0408,\n        0.3622, 0.0692, 0.0186, 0.9824, 0.0191], device='cuda:0',\n       grad_fn=<SelectBackward>)\ntensor([0.0258, 0.9740, 0.9649, 0.9777, 0.9772, 0.0198, 0.0164, 0.9817, 0.0169,\n        0.0164, 0.0201, 0.9818, 0.0353, 0.5600, 0.0369, 0.0441, 0.9819, 0.6986,\n        0.0247, 0.9737, 0.9823, 0.7965, 0.1946, 0.0191, 0.0177, 0.0242, 0.0204,\n        0.4646, 0.4870, 0.9830, 0.0178, 0.7804, 0.9826, 0.9784, 0.9590, 0.9793,\n        0.9788, 0.9055, 0.6672, 0.1900, 0.0191, 0.0226, 0.9801, 0.8412, 0.9812,\n        0.0305, 0.9770, 0.1812, 0.7101, 0.5833], device='cuda:0',\n       grad_fn=<SelectBackward>)\ntensor([0.0208, 0.5938, 0.9804, 0.0199, 0.9723, 0.9826, 0.0232, 0.0163, 0.1300,\n        0.0634, 0.9803, 0.0217, 0.9695, 0.9290, 0.0191, 0.2781, 0.0289, 0.0175,\n        0.9323, 0.0354, 0.1224, 0.9762, 0.9753, 0.9084, 0.9796, 0.3138, 0.5659,\n        0.9806, 0.2445, 0.9814, 0.9796, 0.0548, 0.0162, 0.6464, 0.1051, 0.6755,\n        0.9757, 0.0225, 0.9819, 0.0166, 0.9071, 0.9805, 0.9470, 0.3854, 0.9835,\n        0.0179, 0.9014, 0.9822, 0.9583, 0.0191], device='cuda:0',\n       grad_fn=<SelectBackward>)\ntensor([0.4685, 0.5064, 0.9630, 0.9817, 0.0170, 0.0733, 0.0316, 0.9807, 0.6671,\n        0.0184, 0.6110, 0.9830, 0.9402, 0.0519, 0.9712, 0.0173, 0.9823, 0.0235,\n        0.0690, 0.9832, 0.4682, 0.0215, 0.9137, 0.0278, 0.0279, 0.9528, 0.8805,\n        0.0170, 0.0172, 0.0243, 0.9688, 0.9673, 0.5048, 0.0166, 0.9702, 0.6074,\n        0.2195, 0.5725, 0.9405, 0.0170, 0.9417, 0.6579, 0.9373, 0.1116, 0.0273,\n        0.0254, 0.9803, 0.9658, 0.4963, 0.8841], device='cuda:0',\n       grad_fn=<SelectBackward>)\ntensor([0.0175, 0.9803, 0.1061, 0.0204, 0.7709, 0.9527, 0.9811, 0.9822, 0.9798,\n        0.1376, 0.0286, 0.0181, 0.9750, 0.9792, 0.3458, 0.0166, 0.9788, 0.0506,\n        0.9825, 0.9787, 0.9276, 0.0232, 0.2126, 0.0197, 0.1645, 0.0233, 0.9748,\n        0.0174, 0.9632, 0.0208, 0.6795, 0.0195, 0.0196, 0.2157, 0.7917, 0.0207,\n        0.0165, 0.0216, 0.4682, 0.2291, 0.7560, 0.9818, 0.9804, 0.0200, 0.0173,\n        0.3155, 0.9835, 0.9829, 0.0180, 0.1395], device='cuda:0',\n       grad_fn=<SelectBackward>)\ntensor([0.1240, 0.0167, 0.9605, 0.0175, 0.9820, 0.0175, 0.0340, 0.6807, 0.0220,\n        0.8993, 0.9311, 0.0293, 0.0180, 0.3325, 0.8031, 0.0184, 0.9823, 0.0401,\n        0.0167, 0.9547, 0.0201, 0.9696, 0.0217, 0.4882, 0.4619, 0.9829, 0.5347,\n        0.0240, 0.8286, 0.0180, 0.0180, 0.9834, 0.2018, 0.0223, 0.9646, 0.8396,\n        0.0171, 0.1855, 0.1382, 0.0515, 0.0354, 0.0452, 0.5433, 0.0165, 0.0171,\n        0.7563, 0.9663, 0.0197, 0.0702, 0.1457], device='cuda:0',\n       grad_fn=<SelectBackward>)\ntensor([0.9821, 0.1204, 0.8908, 0.0199, 0.7267, 0.9679, 0.9824, 0.9821, 0.0175,\n        0.0215, 0.9766, 0.0196, 0.3025, 0.0188, 0.4023, 0.6935, 0.0190, 0.8312,\n        0.9802, 0.0179, 0.5013, 0.9795, 0.9781, 0.7985, 0.9813, 0.9522, 0.0214,\n        0.0177, 0.9823, 0.0176, 0.2897, 0.9808, 0.9776, 0.0198, 0.9526, 0.5495,\n        0.0349, 0.9658, 0.0615, 0.0384, 0.0490, 0.8531, 0.0166, 0.2696, 0.2561,\n        0.9813, 0.0298, 0.0177, 0.0256, 0.9742], device='cuda:0',\n       grad_fn=<SelectBackward>)\ntensor([0.0198, 0.9820, 0.9810, 0.0200, 0.9819, 0.9728, 0.0274, 0.0185, 0.3187,\n        0.0212, 0.8730, 0.0169, 0.1089, 0.0248, 0.0175, 0.9829, 0.6715, 0.9806,\n        0.6466, 0.9754, 0.8325, 0.9749, 0.9516, 0.0168, 0.8386, 0.0536, 0.9789,\n        0.0189, 0.0642, 0.0192, 0.9781, 0.5229, 0.1571, 0.5561, 0.9757, 0.0180,\n        0.9763, 0.9729, 0.0218, 0.0185, 0.0228, 0.0404, 0.0463, 0.0244, 0.0471,\n        0.6766, 0.0182, 0.7799, 0.6310, 0.3874], device='cuda:0',\n       grad_fn=<SelectBackward>)\ntensor([0.9588, 0.0166, 0.0198, 0.5578, 0.0311, 0.9819, 0.0163, 0.0170, 0.2638,\n        0.0168, 0.9664, 0.1186, 0.9799, 0.3073, 0.0173, 0.7248, 0.9823, 0.0971,\n        0.0170, 0.0598, 0.9818, 0.9486, 0.9415, 0.9639, 0.7090, 0.9659, 0.0832,\n        0.1231, 0.0247, 0.8368, 0.0491, 0.9775, 0.0169, 0.0208, 0.0194, 0.0225,\n        0.0280, 0.9769, 0.0345, 0.7804, 0.9771, 0.6770, 0.0185, 0.0215, 0.5712,\n        0.9779, 0.9352, 0.9184, 0.9779, 0.9364], device='cuda:0',\n       grad_fn=<SelectBackward>)\ntensor([0.9552, 0.0287, 0.0295, 0.9761, 0.0199, 0.9823, 0.0181, 0.0210, 0.7432,\n        0.3145, 0.0176, 0.0351, 0.0490, 0.0246, 0.2488, 0.8567, 0.9790, 0.0295,\n        0.5987, 0.9823, 0.0480, 0.9809, 0.0183, 0.9641, 0.9752, 0.0164, 0.0656,\n        0.0180, 0.7744, 0.2099, 0.0305, 0.9820, 0.9833, 0.2264, 0.0168, 0.2613,\n        0.0269, 0.0233, 0.0323, 0.8476, 0.0409, 0.0179, 0.9676, 0.9818, 0.0278,\n        0.0182, 0.6245, 0.8844, 0.2038, 0.9820], device='cuda:0',\n       grad_fn=<SelectBackward>)\ntensor([0.9751, 0.8489, 0.0198, 0.9798, 0.0176, 0.0274, 0.8375, 0.5687, 0.0465,\n        0.0170, 0.0181, 0.9788, 0.3931, 0.9447, 0.7670, 0.0197, 0.3826, 0.0181,\n        0.7383, 0.9827, 0.9820, 0.5496, 0.0166, 0.0200, 0.0704, 0.0191, 0.7870,\n        0.9779, 0.1941, 0.2002, 0.9823, 0.0222, 0.9823, 0.9689, 0.1242, 0.0174,\n        0.6902, 0.1542, 0.9809, 0.9682, 0.1268, 0.0267, 0.0196, 0.0404, 0.0166,\n        0.9726, 0.1786, 0.0168, 0.0226, 0.6020], device='cuda:0',\n       grad_fn=<SelectBackward>)\ntensor([0.6985, 0.0166, 0.0441, 0.1799, 0.4635, 0.0181, 0.9797, 0.9786, 0.9675,\n        0.0211, 0.8724, 0.9762, 0.8350, 0.0295, 0.0176, 0.0604, 0.0163, 0.0309,\n        0.4519, 0.4395, 0.9754, 0.9679, 0.9338, 0.9766, 0.0165, 0.0889, 0.0420,\n        0.9784, 0.3497, 0.1563, 0.0259, 0.9809, 0.9786, 0.9827, 0.9676, 0.9802,\n        0.9371, 0.9724, 0.9779, 0.3618, 0.0306, 0.9551, 0.9816, 0.0206, 0.0189,\n        0.0180, 0.9806, 0.0187, 0.0168, 0.0171], device='cuda:0',\n       grad_fn=<SelectBackward>)\ntensor([0.9761, 0.9819, 0.0794, 0.7181, 0.0165, 0.0677, 0.6180, 0.0183, 0.9822,\n        0.0168, 0.9534, 0.9753, 0.9822, 0.0400, 0.9753, 0.9816, 0.9806, 0.9765,\n        0.0889, 0.9436, 0.0186, 0.0206, 0.0169, 0.0208, 0.0175, 0.0177, 0.9567,\n        0.9744, 0.9763, 0.0212, 0.0164, 0.0246, 0.1922, 0.5918, 0.7202, 0.0861,\n        0.0250, 0.9796, 0.9829, 0.9137, 0.0170, 0.4243, 0.0204, 0.0169, 0.0972,\n        0.0170, 0.0356, 0.8277, 0.5087, 0.9725], device='cuda:0',\n       grad_fn=<SelectBackward>)\ntensor([0.0180, 0.0169, 0.0210, 0.0207, 0.9741, 0.6795, 0.3778, 0.1383, 0.0214,\n        0.9765, 0.9420, 0.3768, 0.6869, 0.9075, 0.9821, 0.9834, 0.0213, 0.9834,\n        0.2302, 0.9827, 0.0189, 0.0217, 0.2937, 0.0183, 0.0184, 0.0165, 0.0200,\n        0.9827, 0.1061, 0.0280, 0.0931, 0.5146, 0.0197, 0.8511, 0.0221, 0.9811,\n        0.0698, 0.9024, 0.0165, 0.0236, 0.0280, 0.9765, 0.9797, 0.9824, 0.0180,\n        0.9213, 0.0193, 0.0163, 0.9817, 0.9763], device='cuda:0',\n       grad_fn=<SelectBackward>)\ntensor([0.8343, 0.9730, 0.0204, 0.0186, 0.6472, 0.0197, 0.0184, 0.0275, 0.9813,\n        0.0163, 0.9803, 0.0351, 0.2924, 0.0165, 0.0488, 0.1052, 0.0167, 0.9323,\n        0.5194, 0.0836, 0.0166, 0.3463, 0.0464, 0.3012, 0.4275, 0.8932, 0.0216,\n        0.0239, 0.9412, 0.9795, 0.3407, 0.7341, 0.0169, 0.0197, 0.0476, 0.1836,\n        0.1391, 0.0180, 0.9800, 0.9818, 0.0196, 0.1670, 0.9831, 0.0171, 0.5569,\n        0.4091, 0.0172, 0.0184, 0.0223, 0.7856], device='cuda:0',\n       grad_fn=<SelectBackward>)\ntensor([0.4753, 0.0180, 0.3894, 0.1998, 0.0172, 0.9423, 0.9584, 0.9465, 0.0226,\n        0.9810, 0.2325, 0.9821, 0.9690, 0.9824, 0.0189, 0.0190, 0.0180, 0.9200,\n        0.0193, 0.0225, 0.4319, 0.9797, 0.9816, 0.7306, 0.9002, 0.0180, 0.0174,\n        0.4293, 0.9646, 0.0305, 0.0213, 0.0202, 0.0171, 0.0220, 0.2014, 0.0552,\n        0.1073, 0.0420, 0.9796, 0.0456, 0.0185, 0.9733, 0.9647, 0.0278, 0.9808,\n        0.7020, 0.5171, 0.7415, 0.9552, 0.8594], device='cuda:0',\n       grad_fn=<SelectBackward>)\ntensor([0.1626, 0.9751, 0.2030, 0.0315, 0.0167, 0.9808, 0.9813, 0.9631, 0.2240,\n        0.0200, 0.9795, 0.7539, 0.0402, 0.0164, 0.5770, 0.0193, 0.9578, 0.9836,\n        0.9726, 0.0303, 0.9831, 0.0177, 0.0235, 0.7267, 0.9554, 0.9813, 0.0207,\n        0.0228, 0.6862, 0.1678, 0.8019, 0.0332, 0.9473, 0.5146, 0.9811, 0.4656,\n        0.9674, 0.0214, 0.0165, 0.9825, 0.0908, 0.9772, 0.0171, 0.1770, 0.0184,\n        0.9702, 0.0229, 0.3985, 0.0283, 0.0177], device='cuda:0',\n       grad_fn=<SelectBackward>)\ntensor([0.0181, 0.9672, 0.0200, 0.0825, 0.0243, 0.9825, 0.9593, 0.5516, 0.0169,\n        0.0163, 0.4263, 0.0201, 0.9520, 0.0188, 0.0180, 0.0451, 0.9737, 0.0164,\n        0.9112, 0.0293, 0.9812, 0.9736, 0.0372, 0.9777, 0.0575, 0.9773, 0.9594,\n        0.0175, 0.0190, 0.9540, 0.8822, 0.9800, 0.5610, 0.0628, 0.2885, 0.9216,\n        0.9824, 0.0194, 0.9287, 0.2725, 0.9763, 0.0228, 0.0453, 0.0168, 0.0313,\n        0.0185, 0.0183, 0.5945, 0.9833, 0.5683], device='cuda:0',\n       grad_fn=<SelectBackward>)\ntensor([0.0377, 0.9762, 0.0193, 0.8142, 0.9678, 0.0375, 0.2849, 0.0171, 0.1028,\n        0.9655, 0.9793, 0.6751, 0.2732, 0.0193, 0.8512, 0.0172, 0.0185, 0.3107,\n        0.0163, 0.9763, 0.0639, 0.0205, 0.0429, 0.0248, 0.3314, 0.6712, 0.9719,\n        0.9837, 0.4133, 0.0196, 0.7853, 0.9610, 0.0455, 0.1839, 0.0871, 0.8588,\n        0.9202, 0.3971, 0.9449, 0.2714, 0.0189, 0.7696, 0.4003, 0.1188, 0.0320,\n        0.0373, 0.9804, 0.9662, 0.5358, 0.7284], device='cuda:0',\n       grad_fn=<SelectBackward>)\ntensor([0.9745, 0.9821, 0.0882, 0.9773, 0.0326, 0.7885, 0.9813, 0.0167, 0.9834,\n        0.0196, 0.0201, 0.9773, 0.8085, 0.0186, 0.2592, 0.0167, 0.0174, 0.0209,\n        0.0577, 0.0167, 0.9821, 0.3402, 0.7718, 0.9729, 0.9018, 0.0195, 0.8993,\n        0.0306, 0.9724, 0.0228, 0.9828, 0.1325, 0.0289, 0.9820, 0.9795, 0.3886,\n        0.9469, 0.9799, 0.0166, 0.9705, 0.5089, 0.1411, 0.9834, 0.0180, 0.9708,\n        0.8233, 0.9757, 0.0188, 0.9783, 0.9821], device='cuda:0',\n       grad_fn=<SelectBackward>)\ntensor([0.9831, 0.0189, 0.5333, 0.6722, 0.0710, 0.2194, 0.9834, 0.9367, 0.2007,\n        0.0164, 0.9816, 0.0182, 0.5538, 0.9827, 0.0191, 0.9341, 0.8456, 0.9823,\n        0.9826, 0.0206, 0.9667, 0.0172, 0.9560, 0.2197, 0.2008, 0.0187, 0.0174,\n        0.3914, 0.9691, 0.7649, 0.9825, 0.8905, 0.0194, 0.9714, 0.1052, 0.0167,\n        0.0445, 0.4004, 0.9798, 0.9741, 0.2288, 0.9785, 0.9744, 0.9697, 0.9715,\n        0.4755, 0.0184, 0.9787, 0.9193, 0.0167], device='cuda:0',\n       grad_fn=<SelectBackward>)\ntensor([0.0182, 0.1798, 0.9829, 0.0163, 0.0192, 0.0310, 0.9289, 0.9813, 0.6243,\n        0.1582, 0.6646, 0.9832, 0.0206, 0.0259, 0.7399, 0.9660, 0.0303, 0.9814,\n        0.9746, 0.0197, 0.1251, 0.9742, 0.9832, 0.0166, 0.0182, 0.0201, 0.9775,\n        0.1289, 0.0178, 0.9800, 0.0284, 0.0168, 0.7532, 0.4741, 0.1733, 0.6271,\n        0.8120, 0.9822, 0.9503, 0.0168, 0.0499, 0.9805, 0.0223, 0.0175, 0.0214,\n        0.0163, 0.9827, 0.0183, 0.9830, 0.9741], device='cuda:0',\n       grad_fn=<SelectBackward>)\ntensor([0.7604, 0.0314, 0.9831, 0.0180, 0.0162, 0.6908, 0.0245, 0.8236, 0.7887,\n        0.9825, 0.0217, 0.2435, 0.0217, 0.9747, 0.9832, 0.0358, 0.0167, 0.9777,\n        0.0211, 0.0168, 0.9784, 0.0176, 0.9789, 0.7445, 0.0173, 0.0219, 0.9172,\n        0.9768, 0.9798, 0.1495, 0.5901, 0.9607, 0.9695, 0.9357, 0.9836, 0.0530,\n        0.3726, 0.9630, 0.5775, 0.0211, 0.2099, 0.0210, 0.0191, 0.0173, 0.0163,\n        0.0169, 0.9616, 0.0207, 0.0196, 0.9734], device='cuda:0',\n       grad_fn=<SelectBackward>)\ntensor([0.0212, 0.2092, 0.9284, 0.2734, 0.0244, 0.8273, 0.8527, 0.0213, 0.9718,\n        0.9797, 0.0197, 0.0194, 0.9827, 0.0178, 0.0204, 0.9793, 0.0217, 0.9739,\n        0.0163, 0.0344, 0.9169, 0.0356, 0.0630, 0.0447, 0.9830, 0.4641, 0.5722,\n        0.0470, 0.0163, 0.0324, 0.9811, 0.4774, 0.9801, 0.9066, 0.2238, 0.4085,\n        0.9815, 0.9748, 0.0167, 0.1462, 0.1563, 0.9104, 0.0176, 0.0250, 0.9823,\n        0.0174, 0.0193, 0.9794, 0.0177, 0.9721], device='cuda:0',\n       grad_fn=<SelectBackward>)\ntensor([0.0161, 0.9798, 0.0180, 0.2726, 0.4978, 0.9827, 0.1139, 0.2140, 0.7891,\n        0.9743, 0.2710, 0.1862, 0.9755, 0.0185, 0.5606, 0.9834, 0.0238, 0.5469,\n        0.0358, 0.9221, 0.9823, 0.0181, 0.0915, 0.0167, 0.0503, 0.0368, 0.9076,\n        0.0163, 0.9773, 0.0186, 0.9770, 0.0168, 0.0266, 0.0231, 0.9791, 0.9464,\n        0.0191, 0.0231, 0.6325, 0.3284, 0.0418, 0.1480, 0.4849, 0.0189, 0.9769,\n        0.8033, 0.0297, 0.9399, 0.0805, 0.9783], device='cuda:0',\n       grad_fn=<SelectBackward>)\ntensor([0.0203, 0.0176, 0.1443, 0.0202, 0.0257, 0.7915, 0.0344, 0.0181, 0.0184,\n        0.1251, 0.9711, 0.9638, 0.0172, 0.0189, 0.9673, 0.9826, 0.0181, 0.9567,\n        0.4334, 0.9082, 0.0169, 0.0163, 0.8433, 0.0168, 0.0545, 0.0226, 0.9719,\n        0.0228, 0.9769, 0.9803, 0.0201, 0.9777, 0.0180, 0.1798, 0.7226, 0.9827,\n        0.9820, 0.0258, 0.4372, 0.0168, 0.0918, 0.9761, 0.9431, 0.0163, 0.9805,\n        0.0254, 0.9822, 0.8240, 0.2535, 0.9818], device='cuda:0',\n       grad_fn=<SelectBackward>)\ntensor([0.0196, 0.0736, 0.0178, 0.9745, 0.1503, 0.3057, 0.0210, 0.0435, 0.0177,\n        0.2325, 0.0821, 0.9820, 0.0204, 0.9807, 0.0168, 0.5081, 0.4839, 0.0409,\n        0.4754, 0.1593, 0.0386, 0.0527, 0.1317, 0.7332, 0.7670, 0.8785, 0.0184,\n        0.0182, 0.8379, 0.0649, 0.0519, 0.0170, 0.0174, 0.2256, 0.0503, 0.9454,\n        0.9233, 0.9208, 0.0182, 0.0192, 0.6215, 0.9747, 0.9776, 0.0175, 0.1475,\n        0.9033, 0.0245, 0.0208, 0.0163, 0.7164], device='cuda:0',\n       grad_fn=<SelectBackward>)\nTest loss: 0.393\nTest accuracy: 0.854\n"
    }
   ],
   "source": [
    "# Get test data loss and accuracy\n",
    "\n",
    "test_losses = [] # track loss\n",
    "num_correct = 0\n",
    "\n",
    "# init hidden state\n",
    "h = net.init_hidden(batch_size)\n",
    "\n",
    "net.eval()\n",
    "# iterate over test data\n",
    "for inputs, labels in test_loader:\n",
    "\n",
    "    # Creating new variables for the hidden state, otherwise\n",
    "    # we'd backprop through the entire training history\n",
    "    h = tuple([each.data for each in h])\n",
    "\n",
    "    if(train_on_gpu):\n",
    "        inputs, labels = inputs.cuda(), labels.cuda()\n",
    "    \n",
    "    # get predicted outputs\n",
    "    output, h = net(inputs, h)\n",
    "    \n",
    "    # calculate loss\n",
    "    test_loss = criterion(output.squeeze(), labels.float())\n",
    "    test_losses.append(test_loss.item())\n",
    "    \n",
    "    # convert output probabilities to predicted class (0 or 1)\n",
    "    pred = torch.round(output.squeeze())  # rounds to the nearest integer\n",
    "    \n",
    "    # compare predictions to true label\n",
    "    correct_tensor = pred.eq(labels.float().view_as(pred))\n",
    "    correct = np.squeeze(correct_tensor.numpy()) if not train_on_gpu else np.squeeze(correct_tensor.cpu().numpy())\n",
    "    num_correct += np.sum(correct)\n",
    "\n",
    "\n",
    "# -- stats! -- ##\n",
    "# avg test loss\n",
    "print(\"Test loss: {:.3f}\".format(np.mean(test_losses)))\n",
    "\n",
    "# accuracy over all test data\n",
    "test_acc = num_correct/len(test_loader.dataset)\n",
    "print(\"Test accuracy: {:.3f}\".format(test_acc))"
   ]
  },
  {
   "cell_type": "markdown",
   "metadata": {},
   "source": [
    "### Inference on a test review\n",
    "\n",
    "You can change this test_review to any text that you want. Read it and think: is it pos or neg? Then see if your model predicts correctly!\n",
    "    \n",
    "> **Exercise:** Write a `predict` function that takes in a trained net, a plain text_review, and a sequence length, and prints out a custom statement for a positive or negative review!\n",
    "* You can use any functions that you've already defined or define any helper functions you want to complete `predict`, but it should just take in a trained net, a text review, and a sequence length.\n"
   ]
  },
  {
   "cell_type": "code",
   "execution_count": 31,
   "metadata": {
    "collapsed": true
   },
   "outputs": [],
   "source": [
    "# negative test review\n",
    "test_review_neg = 'The worst movie I have seen; acting was terrible and I want my money back. This movie had bad acting and the dialogue was slow.'\n"
   ]
  },
  {
   "cell_type": "code",
   "execution_count": 32,
   "metadata": {},
   "outputs": [],
   "source": [
    "def tokenize(test_review):\n",
    "    reviews = test_review.lower() # lowercase, standardize\n",
    "    #remove punctuation\n",
    "    punc_removed_review = ''.join([c for c in reviews if c not in punctuation])\n",
    "    tokenized_review = []\n",
    "    #tokenize the vocab in the review\n",
    "    for word in punc_removed_review.split():\n",
    "        tokenized_review.append(vocab_to_int[word])\n",
    "    return tokenized_review\n",
    "    \n",
    "    "
   ]
  },
  {
   "cell_type": "code",
   "execution_count": 33,
   "metadata": {
    "tags": []
   },
   "outputs": [
    {
     "output_type": "stream",
     "name": "stdout",
     "text": "[1, 247, 18, 10, 28, 108, 113, 14, 388, 2, 10, 181, 60, 273, 144, 11, 18, 68, 76, 113, 2, 1, 410, 14, 539]\n"
    }
   ],
   "source": [
    "print(tokenize(test_review_neg))"
   ]
  },
  {
   "cell_type": "code",
   "execution_count": 87,
   "metadata": {
    "collapsed": true
   },
   "outputs": [],
   "source": [
    "def predict(net, test_review, sequence_length=200):\n",
    "    ''' Prints out whether a give review is predicted to be \n",
    "        positive or negative in sentiment, using a trained model.\n",
    "        \n",
    "        params:\n",
    "        net - A trained net \n",
    "        test_review - a review made of normal text and punctuation\n",
    "        sequence_length - the padded length of a review\n",
    "        '''\n",
    "    net.eval()\n",
    "    test_review = tokenize(test_review)\n",
    "    padded_review = pad_features(test_review,sequence_length,predict = True)\n",
    "    padded_review = torch.Tensor(padded_review).cuda()\n",
    "    \n",
    "    padded_review = padded_review.unsqueeze(0)\n",
    "   \n",
    "    h = net.init_hidden(1)\n",
    "    \n",
    "    pred,h = net(padded_review,h)\n",
    "    pred_round = torch.round(pred.squeeze()).item()\n",
    "    \n",
    "    if pred_round == 1.0:\n",
    "        print('This review is positive.')\n",
    "    else:\n",
    "        print('This review is negative.')\n",
    "    # print custom response based on whether test_review is pos/neg\n",
    "    \n",
    "        "
   ]
  },
  {
   "cell_type": "code",
   "execution_count": 88,
   "metadata": {
    "tags": []
   },
   "outputs": [
    {
     "output_type": "stream",
     "name": "stdout",
     "text": "[11, 18, 68, 1, 117, 113, 2, 1, 410, 14, 37, 50, 10, 445, 8]\n"
    }
   ],
   "source": [
    "# positive test review\n",
    "test_review_pos = 'This movie had the best acting and the dialogue was so good. I loved it.'\n",
    "print(tokenize(test_review_pos))"
   ]
  },
  {
   "cell_type": "code",
   "execution_count": 89,
   "metadata": {
    "collapsed": true,
    "tags": []
   },
   "outputs": [
    {
     "output_type": "stream",
     "name": "stdout",
     "text": "This review is negative.\n"
    }
   ],
   "source": [
    "# call function\n",
    "# try negative and positive reviews!\n",
    "seq_length=200\n",
    "\n",
    "predict(net, test_review_neg, seq_length)"
   ]
  },
  {
   "cell_type": "markdown",
   "metadata": {},
   "source": [
    "### Try out test_reviews of your own!\n",
    "\n",
    "Now that you have a trained model and a predict function, you can pass in _any_ kind of text and this model will predict whether the text has a positive or negative sentiment. Push this model to its limits and try to find what words it associates with positive or negative.\n",
    "\n",
    "Later, you'll learn how to deploy a model like this to a production environment so that it can respond to any kind of user data put into a web app!"
   ]
  },
  {
   "cell_type": "code",
   "execution_count": 86,
   "metadata": {
    "collapsed": true,
    "tags": []
   },
   "outputs": [
    {
     "output_type": "stream",
     "name": "stdout",
     "text": "tensor([0.2727], device='cuda:0', grad_fn=<SelectBackward>)\nThis review is negative.\n"
    }
   ],
   "source": []
  },
  {
   "cell_type": "code",
   "execution_count": null,
   "metadata": {},
   "outputs": [],
   "source": []
  }
 ],
 "metadata": {
  "kernelspec": {
   "display_name": "Python 3",
   "language": "python",
   "name": "python3"
  },
  "language_info": {
   "codemirror_mode": {
    "name": "ipython",
    "version": 3
   },
   "file_extension": ".py",
   "mimetype": "text/x-python",
   "name": "python",
   "nbconvert_exporter": "python",
   "pygments_lexer": "ipython3",
   "version": "3.8.4-candidate"
  }
 },
 "nbformat": 4,
 "nbformat_minor": 2
}